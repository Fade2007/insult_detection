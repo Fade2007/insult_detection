{
 "cells": [
  {
   "cell_type": "code",
   "execution_count": 1,
   "metadata": {},
   "outputs": [],
   "source": [
    "import pandas as pd\n",
    "import numpy as np\n",
    "import sklearn\n",
    "import nltk\n",
    "import re\n",
    "\n",
    "def cleanhtml(raw_html):\n",
    "  cleanr = re.compile('<.*?>')\n",
    "  cleantext = re.sub(cleanr, '', raw_html)\n",
    "  return cleantext"
   ]
  },
  {
   "cell_type": "code",
   "execution_count": 3,
   "metadata": {},
   "outputs": [
    {
     "data": {
      "text/plain": [
       "<bound method NDFrame.head of       Unnamed: 0  insult                                            comment\n",
       "0              0       1                                 You fuck your dad.\n",
       "1              1       0  i really don't understand your point.  It seem...\n",
       "2              2       0  A  majority of Canadians can and has been wron...\n",
       "3              3       0  listen if you dont wanna get married to a man ...\n",
       "4              4       0  C c b u1ea1n xu u1ed1ng  u0111 u01b0 u1eddng b...\n",
       "5              5       0  @SDL OK, but I would hope they'd sign him to a...\n",
       "6              6       0                         Yeah and where are you now\n",
       "7              7       1  shut the fuck up. you and the rest of your fag...\n",
       "8              8       1  Either you are fake or extremely stupid...mayb...\n",
       "9              9       1  That you are an idiot who understands neither ...\n",
       "10            10       0  @jdstorm dont wish him injury but it happened ...\n",
       "11            11       0  Be careful,Jimbo.OG has a fork with your name ...\n",
       "12            12       0          @tonnyb  Or they just don't pay attention\n",
       "13            13       0  Hmmm. Perhaps some who are too pig faced to ge...\n",
       "14            14       0  @barrettmarson Huh  Her income was $21,912. He...\n",
       "15            15       1  FOR SOME REASON U SOUND RETARDED. LOL. DAMN. W...\n",
       "16            16       1  You with the 'racist' screen name  You are a P...\n",
       "17            17       0  Oh! & cheating as well...1966 cup was a cheat ...\n",
       "18            18       1                            your such a dickhead...\n",
       "19            19       1       Your a retard go post your head up your #%&*\n",
       "20            20       0  @EephusBlue Makes you want to say  Mike MacWHOgal\n",
       "21            21       0         http   www.youtube.com watch v tLYLLPHKRU4\n",
       "22            22       0  And you know they've burned holes in all the c...\n",
       "23            23       0       you are a land creature. You would drown....\n",
       "24            24       0  To all those doom and gloomers, the chicken li...\n",
       "25            25       0  Craig, we have been saying from the start that...\n",
       "26            26       0  Strange you are talking about that when there ...\n",
       "27            27       0         But how would you actually get the key out\n",
       "28            28       0  oh cool, some more internet points for your co...\n",
       "29            29       0  Even though I think there are better coaches o...\n",
       "...          ...     ...                                                ...\n",
       "3917        3917       0                                           No shit!\n",
       "3918        3918       0  clark just needs to stop pushing and pulling o...\n",
       "3919        3919       1                                             faggot\n",
       "3920        3920       1  You really should be like the other Lemmings a...\n",
       "3921        3921       0                by your logic also legali e Heroin.\n",
       "3922        3922       0  The G.O.P. can cry all they want but ther the ...\n",
       "3923        3923       0                          @mikieboy   In a nutshell\n",
       "3924        3924       1  @Crissa disqus LaRa a  The Race , NBP. Nation ...\n",
       "3925        3925       0  Hey, if the Republicans are determined to stak...\n",
       "3926        3926       0  Nah. Good folks there, good music POURS from t...\n",
       "3927        3927       1  Hey nutbag..youre a traitor....  Obama has mor...\n",
       "3928        3928       1                      You're avatar is fail. Loser.\n",
       "3929        3929       1  Why don't you shut your stupid mouth, pennylan...\n",
       "3930        3930       0  We didn't even know who the rebels really are,...\n",
       "3931        3931       1  You goofy Repub thugs don't have a clue, not t...\n",
       "3932        3932       0  socaljim     Nope, Kelly should stay and stick...\n",
       "3933        3933       0  @Ritual Reality No I am simply saying that bac...\n",
       "3934        3934       1  True, maybe he's deliberately being an assh*le...\n",
       "3935        3935       1  JoelWeltman, you look like a pedophile from yo...\n",
       "3936        3936       0  your a little high on the points but I do thin...\n",
       "3937        3937       0  Your Yellowstone Fly Fishing Report   .. The M...\n",
       "3938        3938       0  MrO,  Proof is shown by liberals not wanting t...\n",
       "3939        3939       0  The only ignorant person here is you, who thin...\n",
       "3940        3940       0               oh i had many cars like this before.\n",
       "3941        3941       0  @Sara Besleaga Griji, doruri sau dorin  e... A...\n",
       "3942        3942       1    you are both morons and that is never happening\n",
       "3943        3943       0  Many toolbars include spell check, like Yahoo ...\n",
       "3944        3944       0  @LambeauOrWrigley  @K.Moss  Sioux Falls, S.D. ...\n",
       "3945        3945       0  How about Felix  He is sure turning into one h...\n",
       "3946        3946       0  You're all upset, defending this hipster band....\n",
       "\n",
       "[3947 rows x 3 columns]>"
      ]
     },
     "execution_count": 3,
     "metadata": {},
     "output_type": "execute_result"
    }
   ],
   "source": [
    "df = pd.read_csv('/Users/ritikdutta/Desktop/insult_detection/cleaned_dataset.csv')\n",
    "df.head"
   ]
  },
  {
   "cell_type": "code",
   "execution_count": 5,
   "metadata": {},
   "outputs": [],
   "source": [
    "positive = df[df['insult'] == 1]\n",
    "negative = df[df['insult'] == 0]"
   ]
  },
  {
   "cell_type": "code",
   "execution_count": 15,
   "metadata": {
    "scrolled": false
   },
   "outputs": [],
   "source": [
    "negative\n",
    "negdict = {}\n",
    "posdict = {}\n",
    "for i in range(negative.shape[0]):\n",
    "    negdict[i] = {}\n",
    "    t = negative.iloc[i]['comment'].split()\n",
    "    for j in range(len(t)):\n",
    "        try:\n",
    "            negdict[i][t[j]] += 1\n",
    "        except:\n",
    "            negdict[i][t[j]] = 1\n",
    "            \n",
    "for i in range(positive.shape[0]):\n",
    "    posdict[i] = {}\n",
    "    t = positive.iloc[i]['comment'].split()\n",
    "    for j in range(len(t)):\n",
    "        try:\n",
    "            posdict[i][t[j]] += 1\n",
    "        except:\n",
    "            posdict[i][t[j]] = 1\n",
    "\n"
   ]
  },
  {
   "cell_type": "code",
   "execution_count": 18,
   "metadata": {},
   "outputs": [
    {
     "name": "stdout",
     "output_type": "stream",
     "text": [
      "Average length of sentences:  28.822981366459626\n",
      "Mode:  8\n"
     ]
    }
   ],
   "source": [
    "temp = 0\n",
    "templ = []\n",
    "for i in range(negative.shape[0]):\n",
    "    templ.append(len(negdict[i].keys()))\n",
    "    temp = temp + len(negdict[i].keys())\n",
    "avg = temp / negative.shape[0]\n",
    "mode = max(set(templ), key=templ.count)\n",
    "\n",
    "print('Average length of sentences: ', avg)\n",
    "print('Mode: ', mode)\n"
   ]
  },
  {
   "cell_type": "code",
   "execution_count": 19,
   "metadata": {},
   "outputs": [
    {
     "name": "stdout",
     "output_type": "stream",
     "text": [
      "Average length of sentences:  22.393708293612963\n",
      "Mode:  5\n"
     ]
    }
   ],
   "source": [
    "temp = 0\n",
    "templ = []\n",
    "for i in range(positive.shape[0]):\n",
    "    templ.append(len(posdict[i].keys()))\n",
    "    temp = temp + len(posdict[i].keys())\n",
    "    \n",
    "avg = temp / positive.shape[0]\n",
    "mode = max(set(templ), key=templ.count)\n",
    "print('Average length of sentences: ', avg)\n",
    "print('Mode: ', mode)"
   ]
  },
  {
   "cell_type": "code",
   "execution_count": null,
   "metadata": {},
   "outputs": [],
   "source": []
  }
 ],
 "metadata": {
  "kernelspec": {
   "display_name": "Python 3",
   "language": "python",
   "name": "python3"
  },
  "language_info": {
   "codemirror_mode": {
    "name": "ipython",
    "version": 3
   },
   "file_extension": ".py",
   "mimetype": "text/x-python",
   "name": "python",
   "nbconvert_exporter": "python",
   "pygments_lexer": "ipython3",
   "version": "3.6.5"
  }
 },
 "nbformat": 4,
 "nbformat_minor": 2
}
