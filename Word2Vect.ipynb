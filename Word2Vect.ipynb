{
 "cells": [
  {
   "cell_type": "code",
   "execution_count": 1,
   "metadata": {
    "collapsed": true
   },
   "outputs": [],
   "source": [
    "from nltk.tokenize import word_tokenize, sent_tokenize\n",
    "from gensim.models import Word2Vec\n",
    "import pandas as pd"
   ]
  },
  {
   "cell_type": "code",
   "execution_count": 2,
   "metadata": {
    "collapsed": true
   },
   "outputs": [],
   "source": [
    "f = pd.read_csv(\"cleaned_dataset.csv\")"
   ]
  },
  {
   "cell_type": "code",
   "execution_count": 3,
   "metadata": {
    "collapsed": true
   },
   "outputs": [],
   "source": [
    "l=[]\n",
    "l = [[j.lower() for j in word_tokenize(i)] for i in f[\"comment\"]]\n",
    "#l is a sentence of sentence\n",
    "#print (l)"
   ]
  },
  {
   "cell_type": "code",
   "execution_count": 4,
   "metadata": {},
   "outputs": [
    {
     "data": {
      "text/plain": [
       "(1021123, 1513440)"
      ]
     },
     "execution_count": 4,
     "metadata": {},
     "output_type": "execute_result"
    }
   ],
   "source": [
    "p = Word2Vec(f[\"comment\"])\n",
    "model = Word2Vec(l,size=50, \\\n",
    "        window=7, \\\n",
    "        min_count=2,\\\n",
    "        workers=1)\n",
    "model.train(l, total_examples=len(l), epochs=10)\n",
    "\n",
    "\n",
    "#parameters:\n",
    "#size ->  dimensionality of the word vector\n",
    "#window -> the window size(maximum distance between the current and predicted word within a sentence)\n",
    "#min_count -> ignores all words with total frequency lower than this\n",
    "#workers -> faster training with multicore machine"
   ]
  },
  {
   "cell_type": "code",
   "execution_count": 5,
   "metadata": {},
   "outputs": [
    {
     "data": {
      "text/plain": [
       "[('bitch', 0.9317853450775146),\n",
       " ('ass', 0.9182589054107666),\n",
       " ('fucking', 0.9119280576705933)]"
      ]
     },
     "execution_count": 5,
     "metadata": {},
     "output_type": "execute_result"
    }
   ],
   "source": [
    "w = \"fuck\"\n",
    "model.wv.most_similar(w,topn =3)\n",
    "#three top most closest words in the vocabulary."
   ]
  },
  {
   "cell_type": "code",
   "execution_count": 6,
   "metadata": {
    "collapsed": true
   },
   "outputs": [],
   "source": [
    "#print (l)"
   ]
  },
  {
   "cell_type": "code",
   "execution_count": 7,
   "metadata": {
    "collapsed": true
   },
   "outputs": [],
   "source": [
    "p = pd.Series(f.insult.values,index = f.comment).to_dict()"
   ]
  },
  {
   "cell_type": "code",
   "execution_count": 11,
   "metadata": {
    "scrolled": true
   },
   "outputs": [
    {
     "name": "stdout",
     "output_type": "stream",
     "text": [
      "Word similarity between 'fuck' and other words present in the corpus(train)\n",
      "of: -0.277748\n",
      "this: 0.0868031\n",
      "pig: 0.516175\n",
      "mom: 0.516175\n",
      "would: 0.00293566\n",
      "bitch: 0.931786\n"
     ]
    }
   ],
   "source": [
    "#similarity measure of two words\n",
    "print (\"Word similarity between 'fuck' and other words present in the corpus(train)\")\n",
    "print (\"of:\",model.wv.similarity(w1=\"fuck\",w2=\"of\"))\n",
    "print (\"this:\",model.wv.similarity(w1= \"fuck\",w2 = \"this\"))\n",
    "print (\"pig:\",model.wv.similarity(w1=\"fuck\",w2=\"pig\"))\n",
    "print (\"mom:\",model.wv.similarity(w1=\"fuck\",w2=\"pig\"))\n",
    "print (\"would:\",model.wv.similarity(w1=\"fuck\",w2=\"would\"))\n",
    "print (\"bitch:\",model.wv.similarity(w1=\"fuck\",w2=\"bitch\"))\n"
   ]
  },
  {
   "cell_type": "code",
   "execution_count": 10,
   "metadata": {},
   "outputs": [
    {
     "name": "stdout",
     "output_type": "stream",
     "text": [
      "fuck\n",
      "fuck\n"
     ]
    }
   ],
   "source": [
    "#odd one out according to the model.\n",
    "print (model.wv.doesnt_match([\"fuck\",\"cat\",\"fail\"]))\n",
    "print (model.wv.doesnt_match([\"pig\",\"dog\",\"fuck\"]))"
   ]
  },
  {
   "cell_type": "code",
   "execution_count": null,
   "metadata": {
    "collapsed": true
   },
   "outputs": [],
   "source": []
  },
  {
   "cell_type": "code",
   "execution_count": null,
   "metadata": {
    "collapsed": true
   },
   "outputs": [],
   "source": []
  },
  {
   "cell_type": "code",
   "execution_count": null,
   "metadata": {
    "collapsed": true
   },
   "outputs": [],
   "source": []
  }
 ],
 "metadata": {
  "kernelspec": {
   "display_name": "Python 3",
   "language": "python",
   "name": "python3"
  }
 },
 "nbformat": 4,
 "nbformat_minor": 2
}
