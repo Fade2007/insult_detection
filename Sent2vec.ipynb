{
 "cells": [
  {
   "cell_type": "code",
   "execution_count": 1,
   "metadata": {
    "collapsed": true
   },
   "outputs": [],
   "source": [
    "from nltk.tokenize import word_tokenize, sent_tokenize\n",
    "from gensim.models import Word2Vec\n",
    "import pandas as pd\n",
    "import numpy as np\n",
    "from sklearn.neighbors import KNeighborsClassifier\n",
    "from sklearn import metrics\n",
    "from IPython.display import display, Markdown, Latex"
   ]
  },
  {
   "cell_type": "code",
   "execution_count": 2,
   "metadata": {
    "collapsed": true
   },
   "outputs": [],
   "source": [
    "df_train = pd.read_csv(\"cleaned_dataset.csv\")\n",
    "df_test = pd.read_csv('Preprocessed Data/cleaned_dataset_test.csv')\n",
    "df_test1=df_test.drop(df_test.index[[114,153,1944]]).reset_index(drop=True)\n"
   ]
  },
  {
   "cell_type": "code",
   "execution_count": 4,
   "metadata": {
    "collapsed": true
   },
   "outputs": [],
   "source": [
    "class word2vec:         \n",
    "    def transform(self,text):\n",
    "        l = [[j.lower() for j in word_tokenize(i)] for i in text]\n",
    "        model = Word2Vec(l,size=50, \\\n",
    "            window=7, \\\n",
    "            min_count=0,\\\n",
    "            workers=1)\n",
    "        model.train(l, total_examples=len(l), epochs=10)\n",
    "        updated_vector = []\n",
    "        for i in l:\n",
    "            p=0\n",
    "            for j in i:\n",
    "                p+=model.wv[j]\n",
    "            updated_vector.append(p)\n",
    "        return(np.asarray(updated_vector))"
   ]
  },
  {
   "cell_type": "code",
   "execution_count": 5,
   "metadata": {
    "collapsed": true
   },
   "outputs": [],
   "source": [
    "#parameters:\n",
    "#size ->  dimensionality of the word vector\n",
    "#window -> the window size(maximum distance between the current and predicted word within a sentence)\n",
    "#min_count -> ignores all words with total frequency lower than this\n",
    "#workers -> faster training with multicore machine\n",
    "\n",
    "\n"
   ]
  },
  {
   "cell_type": "code",
   "execution_count": 6,
   "metadata": {
    "collapsed": true
   },
   "outputs": [],
   "source": [
    "vectorizer = word2vec()\n",
    "X_train=vectorizer.transform(df_train[\"comment\"].tolist())\n",
    "Y_train=(df_train[\"insult\"].tolist())\n",
    "\n",
    "X_test=vectorizer.transform(df_test1[\"comment\"].tolist())\n",
    "Y_test = df_test1[\"insult\"]"
   ]
  },
  {
   "cell_type": "code",
   "execution_count": 7,
   "metadata": {
    "collapsed": true
   },
   "outputs": [],
   "source": [
    "n_neighbors = 15\n",
    "clf = KNeighborsClassifier(n_neighbors)\n",
    "clf.fit(X_train,Y_train);"
   ]
  },
  {
   "cell_type": "code",
   "execution_count": 8,
   "metadata": {},
   "outputs": [
    {
     "data": {
      "text/markdown": [
       "**Accuracy** : 0.74357034795764<br>**AUC Score** : 0.515474729724"
      ],
      "text/plain": [
       "<IPython.core.display.Markdown object>"
      ]
     },
     "metadata": {},
     "output_type": "display_data"
    }
   ],
   "source": [
    "predictions=clf.predict(X_test)\n",
    "\n",
    "count = 0\n",
    "for prediction in range(len(predictions)):\n",
    "    if predictions[prediction] == Y_test[prediction]:\n",
    "        count += 1\n",
    "acc = count/len(predictions)\n",
    "aoc = metrics.roc_auc_score(Y_test,predictions)\n",
    "data = \"**Accuracy** : \" + str(acc) + \"<br>\" + \"**AUC Score** : \" + str(aoc) \n",
    "display(Markdown(data))\n"
   ]
  }
 ],
 "metadata": {
  "kernelspec": {
   "display_name": "Python 3",
   "language": "python",
   "name": "python3"
  },
  "language_info": {
   "codemirror_mode": {
    "name": "ipython",
    "version": 3
   },
   "file_extension": ".py",
   "mimetype": "text/x-python",
   "name": "python",
   "nbconvert_exporter": "python",
   "pygments_lexer": "ipython3",
   "version": "3.6.3"
  }
 },
 "nbformat": 4,
 "nbformat_minor": 2
}
