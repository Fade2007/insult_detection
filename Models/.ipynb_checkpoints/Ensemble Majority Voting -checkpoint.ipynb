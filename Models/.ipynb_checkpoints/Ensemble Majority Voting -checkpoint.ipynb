{
 "cells": [
  {
   "cell_type": "code",
   "execution_count": 1,
   "metadata": {
    "scrolled": true
   },
   "outputs": [
    {
     "name": "stderr",
     "output_type": "stream",
     "text": [
      "/home/super/.local/lib/python3.5/site-packages/sklearn/ensemble/weight_boosting.py:29: DeprecationWarning: numpy.core.umath_tests is an internal NumPy module and should not be imported. It will be removed in a future NumPy release.\n",
      "  from numpy.core.umath_tests import inner1d\n"
     ]
    }
   ],
   "source": [
    "import numpy as np\n",
    "import pandas as pd\n",
    "from sklearn.feature_extraction.text import TfidfVectorizer\n",
    "from sklearn import svm\n",
    "from sklearn import metrics\n",
    "from sklearn.linear_model import LogisticRegression\n",
    "from IPython.display import display, Markdown\n",
    "from sklearn.ensemble import RandomForestClassifier\n",
    "from sklearn.naive_bayes import GaussianNB\n",
    "from mlxtend.classifier import EnsembleVoteClassifier\n",
    "from IPython.display import display, Markdown, Latex"
   ]
  },
  {
   "cell_type": "code",
   "execution_count": 2,
   "metadata": {},
   "outputs": [],
   "source": [
    "def score_rocAuc(model_predict,ytest):\n",
    "    count = 0\n",
    "    for prediction in range(len(model_predict)):\n",
    "        if model_predict[prediction] == ytest[prediction]:\n",
    "            count +=1\n",
    "    acc = count/len(model_predict)\n",
    "    aoc = metrics.roc_auc_score(ytest,model_predict)\n",
    "    return acc,aoc"
   ]
  },
  {
   "cell_type": "code",
   "execution_count": 3,
   "metadata": {},
   "outputs": [],
   "source": [
    "df_train = pd.read_csv('../Preprocessed Data/cleaned_dataset_train.csv')\n",
    "df_test = pd.read_csv('../Preprocessed Data//cleaned_dataset_test.csv')\n",
    "#df = pd.read_csv('../cleaned_dataset.csv')"
   ]
  },
  {
   "cell_type": "code",
   "execution_count": 4,
   "metadata": {},
   "outputs": [],
   "source": [
    "X_train = df_train['comment'].fillna(\" \").tolist()\n",
    "Y_train = df_train['insult'].tolist()\n",
    "\n",
    "X_test = df_test['comment'].fillna(\" \").tolist()\n",
    "Y_test = df_test['insult'].tolist()\n",
    "\n",
    "vectorizer = TfidfVectorizer()\n",
    "vectorizer.fit(X_train)\n",
    "\n",
    "X_train = vectorizer.transform(X_train)\n",
    "X_test = vectorizer.transform(X_test)"
   ]
  },
  {
   "cell_type": "code",
   "execution_count": 5,
   "metadata": {},
   "outputs": [],
   "source": [
    "predictions =[]\n",
    "models = []\n",
    "\n",
    "model1 = LogisticRegression()\n",
    "models.append(model1)\n",
    "model1.fit(X_train,Y_train)\n",
    "predictions.append(model1.predict(X_test))\n",
    "\n",
    "model2 = svm.SVC()\n",
    "model2.fit(X_train,Y_train)\n",
    "models.append(model2)\n",
    "predictions.append(model2.predict(X_test))\n",
    "\n",
    "model3 = RandomForestClassifier()\n",
    "model3.fit(X_train,Y_train)\n",
    "models.append(model3)\n",
    "predictions.append(model3.predict(X_test))"
   ]
  },
  {
   "cell_type": "code",
   "execution_count": 6,
   "metadata": {},
   "outputs": [
    {
     "data": {
      "text/markdown": [
       "**Accuracy Logistic Regression** : 0.8349074423876086<br>**AUC Score Logistic Regression** : 0.7191597212068042"
      ],
      "text/plain": [
       "<IPython.core.display.Markdown object>"
      ]
     },
     "metadata": {},
     "output_type": "display_data"
    },
    {
     "data": {
      "text/markdown": [
       "**Accuracy SVM** : 0.7381941820929354<br>**AUC Score SVM** : 0.5"
      ],
      "text/plain": [
       "<IPython.core.display.Markdown object>"
      ]
     },
     "metadata": {},
     "output_type": "display_data"
    },
    {
     "data": {
      "text/markdown": [
       "**Accuracy Random Forrest** : 0.7944843218738195<br>**AUC Score Random Forrest** : 0.6410279132899399"
      ],
      "text/plain": [
       "<IPython.core.display.Markdown object>"
      ]
     },
     "metadata": {},
     "output_type": "display_data"
    }
   ],
   "source": [
    "p =score_rocAuc(predictions[0],Y_test)\n",
    "data = \"**Accuracy Logistic Regression** : \" + str(p[0]) + \"<br>\" + \"**AUC Score Logistic Regression** : \" + str(p[1]) \n",
    "display(Markdown(data))\n",
    "\n",
    "p =score_rocAuc(predictions[1],Y_test)\n",
    "data = \"**Accuracy SVM** : \" + str(p[0]) + \"<br>\" + \"**AUC Score SVM** : \" + str(p[1]) \n",
    "display(Markdown(data))\n",
    "\n",
    "p =score_rocAuc(predictions[2],Y_test)\n",
    "data = \"**Accuracy Random Forrest** : \" + str(p[0]) + \"<br>\" + \"**AUC Score Random Forrest** : \" + str(p[1]) \n",
    "display(Markdown(data))\n"
   ]
  },
  {
   "cell_type": "code",
   "execution_count": 7,
   "metadata": {},
   "outputs": [
    {
     "name": "stderr",
     "output_type": "stream",
     "text": [
      "/home/super/.local/lib/python3.5/site-packages/sklearn/preprocessing/label.py:151: DeprecationWarning: The truth value of an empty array is ambiguous. Returning False, but in future this will result in an error. Use `array.size > 0` to check that an array is not empty.\n",
      "  if diff:\n"
     ]
    },
    {
     "data": {
      "text/markdown": [
       "**Accuracy** : 0.8005289006422365<br>**AUC Score** : 0.6320848490756372"
      ],
      "text/plain": [
       "<IPython.core.display.Markdown object>"
      ]
     },
     "metadata": {},
     "output_type": "display_data"
    }
   ],
   "source": [
    "\n",
    "new = EnsembleVoteClassifier(clfs=models, refit=False)\n",
    "new.fit(X_train,Y_train)\n",
    "l = new.predict(X_test)\n",
    "\n",
    "p = score_rocAuc(l,Y_test)\n",
    "\n",
    "data = \"**Accuracy** : \" + str(p[0]) + \"<br>\" + \"**AUC Score** : \" + str(p[1]) \n",
    "display(Markdown(data))"
   ]
  },
  {
   "cell_type": "code",
   "execution_count": null,
   "metadata": {},
   "outputs": [],
   "source": []
  },
  {
   "cell_type": "code",
   "execution_count": null,
   "metadata": {},
   "outputs": [],
   "source": []
  }
 ],
 "metadata": {
  "kernelspec": {
   "display_name": "Python 3",
   "language": "python",
   "name": "python3"
  },
  "language_info": {
   "codemirror_mode": {
    "name": "ipython",
    "version": 3
   },
   "file_extension": ".py",
   "mimetype": "text/x-python",
   "name": "python",
   "nbconvert_exporter": "python",
   "pygments_lexer": "ipython3",
   "version": "3.5.2"
  }
 },
 "nbformat": 4,
 "nbformat_minor": 2
}
