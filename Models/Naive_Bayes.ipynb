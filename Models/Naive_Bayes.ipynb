{
 "cells": [
  {
   "cell_type": "code",
   "execution_count": 2,
   "metadata": {},
   "outputs": [],
   "source": [
    "from sklearn.feature_extraction.text import CountVectorizer\n",
    "from sklearn.feature_extraction.text import TfidfVectorizer\n",
    "from sklearn.model_selection import train_test_split\n",
    "from sklearn import metrics\n",
    "import pandas as pd\n",
    "from IPython.display import display, Markdown, Latex"
   ]
  },
  {
   "cell_type": "code",
   "execution_count": 3,
   "metadata": {},
   "outputs": [],
   "source": [
    "df_train = pd.read_csv('../Preprocessed Data/cleaned_dataset_train.csv')\n",
    "df_test = pd.read_csv('../Preprocessed Data//cleaned_dataset_test.csv')\n",
    "#df = pd.read_csv('../cleaned_dataset.csv')"
   ]
  },
  {
   "cell_type": "code",
   "execution_count": 4,
   "metadata": {},
   "outputs": [],
   "source": [
    "X_train = df_train['comment'].fillna(\" \").tolist()\n",
    "Y_train = df_train['insult'].tolist()\n",
    "\n",
    "X_test = df_test['comment'].fillna(\" \").tolist()\n",
    "Y_test = df_test['insult'].tolist()\n",
    "\n",
    "vectorizer = TfidfVectorizer()\n",
    "vectorizer.fit(X_train)\n",
    "\n",
    "X_train = vectorizer.transform(X_train).toarray()\n",
    "X_test = vectorizer.transform(X_test).toarray()"
   ]
  },
  {
   "cell_type": "code",
   "execution_count": 5,
   "metadata": {},
   "outputs": [
    {
     "data": {
      "text/plain": [
       "GaussianNB(priors=None)"
      ]
     },
     "execution_count": 5,
     "metadata": {},
     "output_type": "execute_result"
    }
   ],
   "source": [
    "from sklearn.naive_bayes import GaussianNB\n",
    "clf = GaussianNB()\n",
    "clf.fit(X_train,Y_train)"
   ]
  },
  {
   "cell_type": "code",
   "execution_count": 6,
   "metadata": {},
   "outputs": [],
   "source": [
    "predictions = clf.predict(X_test)      "
   ]
  },
  {
   "cell_type": "code",
   "execution_count": 7,
   "metadata": {},
   "outputs": [
    {
     "data": {
      "text/markdown": [
       "**Accuracy** : 0.6754816773706083<br>**AUC Score** : 0.6214196357492161"
      ],
      "text/plain": [
       "<IPython.core.display.Markdown object>"
      ]
     },
     "metadata": {},
     "output_type": "display_data"
    }
   ],
   "source": [
    "count = 0\n",
    "for prediction in range(len(predictions)):\n",
    "    if predictions[prediction] == Y_test[prediction]:\n",
    "        count += 1\n",
    "acc = count/len(predictions)\n",
    "aoc = metrics.roc_auc_score(Y_test,predictions)\n",
    "data = \"**Accuracy** : \" + str(acc) + \"<br>\" + \"**AUC Score** : \" + str(aoc) \n",
    "display(Markdown(data))       "
   ]
  },
  {
   "cell_type": "code",
   "execution_count": 19,
   "metadata": {},
   "outputs": [
    {
     "name": "stdout",
     "output_type": "stream",
     "text": [
      "Precision:  [0.80810355 0.4045977 ]   Recall:  [0.73490276 0.50793651]    F-score:  [0.76976682 0.45041587]\n",
      "             precision    recall  f1-score   support\n",
      "\n",
      "          0       0.81      0.73      0.77      1954\n",
      "          1       0.40      0.51      0.45       693\n",
      "\n",
      "avg / total       0.70      0.68      0.69      2647\n",
      "\n"
     ]
    }
   ],
   "source": [
    "from sklearn.metrics import precision_recall_fscore_support\n",
    "\n",
    "from sklearn.metrics import classification_report \n",
    "\n",
    "precision, recall, f_score, _ = precision_recall_fscore_support(Y_test, predictions)\n",
    "\n",
    "print('Precision: ', precision, '  Recall: ', recall, '   F-score: ', f_score)\n",
    "\n",
    "print(classification_report(Y_test, predictions))"
   ]
  },
  {
   "cell_type": "code",
   "execution_count": null,
   "metadata": {},
   "outputs": [],
   "source": []
  }
 ],
 "metadata": {
  "kernelspec": {
   "display_name": "Python 3",
   "language": "python",
   "name": "python3"
  },
  "language_info": {
   "codemirror_mode": {
    "name": "ipython",
    "version": 3
   },
   "file_extension": ".py",
   "mimetype": "text/x-python",
   "name": "python",
   "nbconvert_exporter": "python",
   "pygments_lexer": "ipython3",
   "version": "3.7.0"
  }
 },
 "nbformat": 4,
 "nbformat_minor": 2
}
