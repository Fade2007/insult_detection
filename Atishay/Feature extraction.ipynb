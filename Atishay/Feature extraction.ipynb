{
 "cells": [
  {
   "cell_type": "code",
   "execution_count": 29,
   "metadata": {},
   "outputs": [],
   "source": [
    "import csv\n",
    "import numpy\n",
    "import pandas as pd\n",
    "\n",
    "ins = []\n",
    "com = []\n",
    "df_train = pd.read_csv('cleaned_dataset_train.csv')\n",
    "text = df_train['comment'].fillna(\" \").tolist()\n",
    "y = df_train['insult'].tolist()\n",
    "\n",
    "one = []\n",
    "zero = []\n",
    "for i in range(len(y)):\n",
    "    if y[i] == 0:\n",
    "        zero.append(text[i])\n",
    "    else:\n",
    "        one.append(text[i])\n"
   ]
  },
  {
   "cell_type": "code",
   "execution_count": 30,
   "metadata": {},
   "outputs": [
    {
     "name": "stdout",
     "output_type": "stream",
     "text": [
      "0.0024154589371980675\n",
      "0.016205910390848427\n"
     ]
    }
   ],
   "source": [
    "c = 0\n",
    "#print (type(0.1))\n",
    "for i in zero:\n",
    "    if 'your mom' in i.lower():\n",
    "        c += 1\n",
    "print (c/len(zero))       \n",
    "c = 0\n",
    "for i in one:\n",
    "    if 'your mom' in i.lower():\n",
    "        c += 1\n",
    "\n",
    "print (float(c)/len(one))"
   ]
  },
  {
   "cell_type": "code",
   "execution_count": 31,
   "metadata": {},
   "outputs": [
    {
     "name": "stdout",
     "output_type": "stream",
     "text": [
      "36.325051759834366\n",
      "26.9256434699714\n"
     ]
    }
   ],
   "source": [
    "c = 0\n",
    "for i in zero:\n",
    "    c+= len(i.split())\n",
    "print (float(c)/len(zero))  \n",
    "\n",
    "\n",
    "c = 0\n",
    "for i in one:\n",
    "    c+= len(i.split())\n",
    "\n",
    "print (float(c)/len(one))"
   ]
  },
  {
   "cell_type": "code",
   "execution_count": 32,
   "metadata": {},
   "outputs": [
    {
     "name": "stdout",
     "output_type": "stream",
     "text": [
      "198.54899930986886\n",
      "142.9723546234509\n"
     ]
    }
   ],
   "source": [
    "c = 0\n",
    "for i in zero:\n",
    "    c+= len(i)\n",
    "print (float(c)/len(zero))  \n",
    "\n",
    "\n",
    "c = 0\n",
    "for i in one:\n",
    "    c+= len(i)\n",
    "\n",
    "print (float(c)/len(one))"
   ]
  },
  {
   "cell_type": "code",
   "execution_count": 33,
   "metadata": {},
   "outputs": [
    {
     "name": "stdout",
     "output_type": "stream",
     "text": [
      "0.0016167296895365846\n",
      "0.0003469448536538237\n"
     ]
    }
   ],
   "source": [
    "c = 0\n",
    "for i in zero:\n",
    "    d = 0\n",
    "    for j in ['@','\"','%','(']:\n",
    "        d+= i.count(j)\n",
    "    c += float(d)/len(i)\n",
    "print (float(c)/len(zero))  \n",
    "\n",
    "\n",
    "c = 0\n",
    "for i in one:\n",
    "    d = 0\n",
    "    for j in ['@','\"','%','(']:\n",
    "        d+= i.count(j)\n",
    "    c += float(d)/len(i)\n",
    "\n",
    "print (float(c)/len(one))"
   ]
  },
  {
   "cell_type": "code",
   "execution_count": 34,
   "metadata": {},
   "outputs": [
    {
     "name": "stdout",
     "output_type": "stream",
     "text": [
      "0.00019740889525306625\n",
      "0.0002961322268439631\n"
     ]
    }
   ],
   "source": [
    "c = 0\n",
    "for i in zero:\n",
    "    for j in [\"*\"]:\n",
    "        d= i.count(j)\n",
    "    c += float(d)/len(i)\n",
    "print (float(c)/len(zero))  \n",
    "\n",
    "\n",
    "c = 0\n",
    "for i in one:\n",
    "    for j in [\"*\"]:\n",
    "        d= i.count(j)\n",
    "    c += float(d)/len(i)\n",
    "print (float(c)/len(one))"
   ]
  },
  {
   "cell_type": "code",
   "execution_count": 35,
   "metadata": {},
   "outputs": [
    {
     "name": "stdout",
     "output_type": "stream",
     "text": [
      "0.00019740889525306625\n",
      "0.0002961322268439631\n"
     ]
    }
   ],
   "source": [
    "c = 0\n",
    "for i in zero:\n",
    "    for j in [\"*\"]:\n",
    "        d= i.count(j)\n",
    "    c += float(d)/len(i)\n",
    "print (float(c)/len(zero))  \n",
    "\n",
    "\n",
    "c = 0\n",
    "for i in one:\n",
    "    for j in [\"*\"]:\n",
    "        d= i.count(j)\n",
    "    c += float(d)/len(i)\n",
    "print (float(c)/len(one))"
   ]
  },
  {
   "cell_type": "code",
   "execution_count": 36,
   "metadata": {},
   "outputs": [
    {
     "name": "stdout",
     "output_type": "stream",
     "text": [
      "0.004572649045726836\n",
      "0.005553852062146822\n"
     ]
    }
   ],
   "source": [
    "c = 0\n",
    "for i in zero:\n",
    "    for j in ['!']:\n",
    "        d= i.count(j)\n",
    "    c += float(d)/len(i)\n",
    "print (float(c)/len(zero))  \n",
    "\n",
    "\n",
    "c = 0\n",
    "for i in one:\n",
    "    for j in ['!']:\n",
    "        d= i.count(j)\n",
    "    c += float(d)/len(i)\n",
    "print (float(c)/len(one))"
   ]
  },
  {
   "cell_type": "code",
   "execution_count": 37,
   "metadata": {},
   "outputs": [
    {
     "name": "stdout",
     "output_type": "stream",
     "text": [
      "0.020386663394494582\n",
      "0.020742954163111307\n"
     ]
    }
   ],
   "source": [
    "c = 0\n",
    "for i in zero:\n",
    "    for j in ['.']:\n",
    "        d= i.count(j)\n",
    "    c += float(d)/len(i)\n",
    "print (float(c)/len(zero))  \n",
    "\n",
    "\n",
    "c = 0\n",
    "for i in one:\n",
    "    for j in ['.']:\n",
    "        d= i.count(j)\n",
    "    c += float(d)/len(i)\n",
    "print (float(c)/len(one))"
   ]
  },
  {
   "cell_type": "code",
   "execution_count": 38,
   "metadata": {},
   "outputs": [
    {
     "name": "stdout",
     "output_type": "stream",
     "text": [
      "0.05455261637537965\n",
      "0.07199652253530876\n"
     ]
    }
   ],
   "source": [
    "c = 0\n",
    "for i in zero:\n",
    "    c+= (float(sum(1 for k in i if k.isupper())))/len(i)\n",
    "print (float(c)/len(zero))  \n",
    "\n",
    "\n",
    "c = 0\n",
    "for i in one:\n",
    "    c+= (float(sum(1 for k in i if k.isupper())))/len(i)\n",
    "print (float(c)/len(one))"
   ]
  },
  {
   "cell_type": "code",
   "execution_count": 44,
   "metadata": {},
   "outputs": [
    {
     "name": "stdout",
     "output_type": "stream",
     "text": [
      "0.00031073062680320504\n",
      "9.126366790644201e-05\n"
     ]
    }
   ],
   "source": [
    "c = 0\n",
    "for i in zero:\n",
    "    for j in ['\\\\']:\n",
    "        d= i.count(j)\n",
    "    c += float(d)/len(i)\n",
    "    #d= i.count('\\\\x')\n",
    "    #c -= float(d)/len(i)\n",
    "print (float(c)/len(zero))  \n",
    "\n",
    "\n",
    "c = 0\n",
    "for i in one:\n",
    "    for j in ['\\\\']:\n",
    "        d= i.count(j)\n",
    "    c += float(d)/len(i)\n",
    "    #d= i.count('\\\\x')\n",
    "    #c -= float(d)/len(i)\n",
    "print (float(c)/len(one))"
   ]
  },
  {
   "cell_type": "code",
   "execution_count": 40,
   "metadata": {},
   "outputs": [
    {
     "name": "stdout",
     "output_type": "stream",
     "text": [
      "0.00015569518243203732\n",
      "0.00016388855518679332\n"
     ]
    }
   ],
   "source": [
    "c = 0\n",
    "for i in zero:\n",
    "    for j in ['/']:\n",
    "         d= i.count(j)\n",
    "    c += float(d)/len(i)\n",
    "    #c-= i.count('\\\\x')\n",
    "print (float(c)/len(zero))  \n",
    "\n",
    "\n",
    "c = 0\n",
    "for i in one:\n",
    "    for j in ['/']:\n",
    "         d= i.count(j)\n",
    "    c += float(d)/len(i)\n",
    "    #c-= i.count('\\\\x')\n",
    "print (float(c)/len(one))"
   ]
  },
  {
   "cell_type": "code",
   "execution_count": 41,
   "metadata": {},
   "outputs": [
    {
     "ename": "ZeroDivisionError",
     "evalue": "float division by zero",
     "output_type": "error",
     "traceback": [
      "\u001b[0;31m---------------------------------------------------------------------------\u001b[0m",
      "\u001b[0;31mZeroDivisionError\u001b[0m                         Traceback (most recent call last)",
      "\u001b[0;32m<ipython-input-41-a72e3154a8d1>\u001b[0m in \u001b[0;36m<module>\u001b[0;34m()\u001b[0m\n\u001b[1;32m      4\u001b[0m     \u001b[0;32mfor\u001b[0m \u001b[0mj\u001b[0m \u001b[0;32min\u001b[0m \u001b[0;34m[\u001b[0m\u001b[0;34m'you'\u001b[0m\u001b[0;34m,\u001b[0m\u001b[0;34m'You'\u001b[0m\u001b[0;34m,\u001b[0m\u001b[0;34m'YOU'\u001b[0m\u001b[0;34m]\u001b[0m\u001b[0;34m:\u001b[0m\u001b[0;34m\u001b[0m\u001b[0m\n\u001b[1;32m      5\u001b[0m         \u001b[0md\u001b[0m\u001b[0;34m+=\u001b[0m \u001b[0mi\u001b[0m\u001b[0;34m.\u001b[0m\u001b[0mcount\u001b[0m\u001b[0;34m(\u001b[0m\u001b[0mj\u001b[0m\u001b[0;34m)\u001b[0m\u001b[0;34m\u001b[0m\u001b[0m\n\u001b[0;32m----> 6\u001b[0;31m     \u001b[0mc\u001b[0m \u001b[0;34m+=\u001b[0m \u001b[0mfloat\u001b[0m\u001b[0;34m(\u001b[0m\u001b[0md\u001b[0m\u001b[0;34m)\u001b[0m\u001b[0;34m/\u001b[0m\u001b[0mlen\u001b[0m\u001b[0;34m(\u001b[0m\u001b[0mi\u001b[0m\u001b[0;34m.\u001b[0m\u001b[0msplit\u001b[0m\u001b[0;34m(\u001b[0m\u001b[0;34m)\u001b[0m\u001b[0;34m)\u001b[0m\u001b[0;34m\u001b[0m\u001b[0m\n\u001b[0m\u001b[1;32m      7\u001b[0m     \u001b[0;31m#c-= i.count('\\\\x')\u001b[0m\u001b[0;34m\u001b[0m\u001b[0;34m\u001b[0m\u001b[0m\n\u001b[1;32m      8\u001b[0m \u001b[0mprint\u001b[0m \u001b[0;34m(\u001b[0m\u001b[0mfloat\u001b[0m\u001b[0;34m(\u001b[0m\u001b[0mc\u001b[0m\u001b[0;34m)\u001b[0m\u001b[0;34m/\u001b[0m\u001b[0mlen\u001b[0m\u001b[0;34m(\u001b[0m\u001b[0mzero\u001b[0m\u001b[0;34m)\u001b[0m\u001b[0;34m)\u001b[0m\u001b[0;34m\u001b[0m\u001b[0m\n",
      "\u001b[0;31mZeroDivisionError\u001b[0m: float division by zero"
     ]
    }
   ],
   "source": [
    "c = 0\n",
    "for i in zero:\n",
    "    d = 0\n",
    "    for j in ['you','You','YOU']:\n",
    "        d+= i.count(j)\n",
    "    c += float(d)/len(i.split())\n",
    "    #c-= i.count('\\\\x')\n",
    "print (float(c)/len(zero))  \n",
    "\n",
    "\n",
    "c = 0\n",
    "for i in one:\n",
    "    d = 0\n",
    "    for j in ['you','You','YOU']:\n",
    "        d+= i.count(j)\n",
    "    c += float(d)/len(i.split())\n",
    "    #c-= i.count('\\\\x')\n",
    "print (float(c)/len(one))"
   ]
  },
  {
   "cell_type": "code",
   "execution_count": 42,
   "metadata": {},
   "outputs": [
    {
     "ename": "ZeroDivisionError",
     "evalue": "float division by zero",
     "output_type": "error",
     "traceback": [
      "\u001b[0;31m---------------------------------------------------------------------------\u001b[0m",
      "\u001b[0;31mZeroDivisionError\u001b[0m                         Traceback (most recent call last)",
      "\u001b[0;32m<ipython-input-42-42d5f4dd3390>\u001b[0m in \u001b[0;36m<module>\u001b[0;34m()\u001b[0m\n\u001b[1;32m      4\u001b[0m     \u001b[0;32mfor\u001b[0m \u001b[0mj\u001b[0m \u001b[0;32min\u001b[0m \u001b[0;34m[\u001b[0m\u001b[0;34m'your'\u001b[0m\u001b[0;34m,\u001b[0m\u001b[0;34m'Your'\u001b[0m\u001b[0;34m,\u001b[0m\u001b[0;34m'YOUR'\u001b[0m\u001b[0;34m]\u001b[0m\u001b[0;34m:\u001b[0m\u001b[0;34m\u001b[0m\u001b[0m\n\u001b[1;32m      5\u001b[0m         \u001b[0md\u001b[0m\u001b[0;34m+=\u001b[0m \u001b[0mi\u001b[0m\u001b[0;34m.\u001b[0m\u001b[0mcount\u001b[0m\u001b[0;34m(\u001b[0m\u001b[0mj\u001b[0m\u001b[0;34m)\u001b[0m\u001b[0;34m\u001b[0m\u001b[0m\n\u001b[0;32m----> 6\u001b[0;31m     \u001b[0mc\u001b[0m \u001b[0;34m+=\u001b[0m \u001b[0mfloat\u001b[0m\u001b[0;34m(\u001b[0m\u001b[0md\u001b[0m\u001b[0;34m)\u001b[0m\u001b[0;34m/\u001b[0m\u001b[0mlen\u001b[0m\u001b[0;34m(\u001b[0m\u001b[0mi\u001b[0m\u001b[0;34m.\u001b[0m\u001b[0msplit\u001b[0m\u001b[0;34m(\u001b[0m\u001b[0;34m)\u001b[0m\u001b[0;34m)\u001b[0m\u001b[0;34m\u001b[0m\u001b[0m\n\u001b[0m\u001b[1;32m      7\u001b[0m     \u001b[0;31m#c-= i.count('\\\\x')\u001b[0m\u001b[0;34m\u001b[0m\u001b[0;34m\u001b[0m\u001b[0m\n\u001b[1;32m      8\u001b[0m \u001b[0mprint\u001b[0m \u001b[0;34m(\u001b[0m\u001b[0mfloat\u001b[0m\u001b[0;34m(\u001b[0m\u001b[0mc\u001b[0m\u001b[0;34m)\u001b[0m\u001b[0;34m/\u001b[0m\u001b[0mlen\u001b[0m\u001b[0;34m(\u001b[0m\u001b[0mzero\u001b[0m\u001b[0;34m)\u001b[0m\u001b[0;34m)\u001b[0m\u001b[0;34m\u001b[0m\u001b[0m\n",
      "\u001b[0;31mZeroDivisionError\u001b[0m: float division by zero"
     ]
    }
   ],
   "source": [
    "c = 0\n",
    "for i in zero:\n",
    "    d = 0\n",
    "    for j in ['your','Your','YOUR']:\n",
    "        d+= i.count(j)\n",
    "    c += float(d)/len(i.split())\n",
    "    #c-= i.count('\\\\x')\n",
    "print (float(c)/len(zero))  \n",
    "\n",
    "\n",
    "c = 0\n",
    "for i in one:\n",
    "    d = 0\n",
    "    for j in ['your','Your','YOUR']:\n",
    "        d+= i.count(j)\n",
    "    c += float(d)/len(i.split())\n",
    "    #c-= i.count('\\\\x')\n",
    "print (float(c)/len(one))"
   ]
  },
  {
   "cell_type": "code",
   "execution_count": null,
   "metadata": {},
   "outputs": [],
   "source": []
  }
 ],
 "metadata": {
  "kernelspec": {
   "display_name": "Python 2",
   "language": "python",
   "name": "python2"
  },
  "language_info": {
   "codemirror_mode": {
    "name": "ipython",
    "version": 3
   },
   "file_extension": ".py",
   "mimetype": "text/x-python",
   "name": "python",
   "nbconvert_exporter": "python",
   "pygments_lexer": "ipython3",
   "version": "3.5.2"
  }
 },
 "nbformat": 4,
 "nbformat_minor": 2
}
