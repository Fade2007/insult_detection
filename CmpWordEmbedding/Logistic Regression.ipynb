{
 "cells": [
  {
   "cell_type": "markdown",
   "metadata": {},
   "source": [
    "# This notebook compares the Accuracy and AUC socre on Logistic Regression classifier using two different word embedding methods."
   ]
  },
  {
   "cell_type": "code",
   "execution_count": 1,
   "metadata": {
    "collapsed": true
   },
   "outputs": [],
   "source": [
    "from nltk.tokenize import word_tokenize, sent_tokenize\n",
    "from gensim.models import Word2Vec\n",
    "import pandas as pd\n",
    "import numpy as np\n",
    "from sklearn.linear_model import LogisticRegression\n",
    "from sklearn import metrics\n",
    "from IPython.display import display, Markdown, Latex\n",
    "import spacy\n",
    "from sklearn.feature_extraction.text import TfidfVectorizer, CountVectorizer"
   ]
  },
  {
   "cell_type": "code",
   "execution_count": 2,
   "metadata": {
    "collapsed": true
   },
   "outputs": [],
   "source": [
    "class word2vec:         \n",
    "    def transform(self,text):\n",
    "        l = [[j.lower() for j in word_tokenize(i)] for i in text]\n",
    "        model = Word2Vec(l,size=300, \\\n",
    "            window=7, \\\n",
    "            min_count=0,\\\n",
    "            workers=1)\n",
    "        model.train(l, total_examples=len(l), epochs=10)\n",
    "        updated_vector = []\n",
    "        for i in l:\n",
    "            p=0\n",
    "            for j in i:\n",
    "                p+=model.wv[j]\n",
    "            updated_vector.append(p)\n",
    "        return(updated_vector)\n",
    "    def transformSpacy(self,text):\n",
    "        model = spacy.load(\"en_core_web_md\")\n",
    "      #  text2vec = [model(i).vector for i in text['comment'].fillna(\" \").tolist()]\n",
    "        #dimmension of vector = 300x1\n",
    "        text2vec = [model(i).vector for i in text]\n",
    "        return text2vec"
   ]
  },
  {
   "cell_type": "code",
   "execution_count": 3,
   "metadata": {
    "collapsed": true
   },
   "outputs": [],
   "source": [
    "#parameters:\n",
    "#size ->  dimensionality of the word vector\n",
    "#window -> the window size(maximum distance between the current and predicted word within a sentence)\n",
    "#min_count -> ignores all words with total frequency lower than this\n",
    "#workers -> faster training with multicore machine\n",
    "\n",
    "df_train = pd.read_csv('../Preprocessed Data/cleaned_dataset_train.csv')\n",
    "df_test = pd.read_csv('../Preprocessed Data//cleaned_dataset_test.csv')\n",
    "#df = pd.read_csv('../cleaned_dataset.csv')\n",
    "#print(df_train[\"comment\"].fillna(\" \").tolist());\n"
   ]
  },
  {
   "cell_type": "markdown",
   "metadata": {},
   "source": [
    "# Word embedding used - Contineous bag of words"
   ]
  },
  {
   "cell_type": "code",
   "execution_count": 4,
   "metadata": {
    "collapsed": true
   },
   "outputs": [],
   "source": [
    "df_train = df_train.fillna('')\n",
    "df_test = df_test.fillna('')\n",
    "X_train = df_train[\"comment\"]\n",
    "Y_train = df_train[\"insult\"].tolist()\n",
    "\n",
    "X_test = df_test[\"comment\"]\n",
    "Y_test = df_test[\"insult\"].tolist()\n"
   ]
  },
  {
   "cell_type": "code",
   "execution_count": 5,
   "metadata": {
    "collapsed": true
   },
   "outputs": [],
   "source": [
    "vectorizer = CountVectorizer()\n",
    "vectorizer.fit(X_train)\n",
    "\n",
    "X_train = vectorizer.transform(X_train)\n",
    "X_test = vectorizer.transform(X_test)"
   ]
  },
  {
   "cell_type": "code",
   "execution_count": 6,
   "metadata": {},
   "outputs": [
    {
     "data": {
      "text/plain": [
       "LogisticRegression(C=3, class_weight=None, dual=False, fit_intercept=True,\n",
       "          intercept_scaling=1, max_iter=100, multi_class='ovr', n_jobs=1,\n",
       "          penalty='l2', random_state=None, solver='liblinear', tol=0.0001,\n",
       "          verbose=0, warm_start=False)"
      ]
     },
     "execution_count": 6,
     "metadata": {},
     "output_type": "execute_result"
    }
   ],
   "source": [
    "\n",
    "clf = LogisticRegression(C = 3)\n",
    "clf.fit(X_train,Y_train)"
   ]
  },
  {
   "cell_type": "code",
   "execution_count": 7,
   "metadata": {},
   "outputs": [
    {
     "data": {
      "text/markdown": [
       "**Accuracy** : 0.8451076690593124<br>**AUC Score** : 0.7698364696829385"
      ],
      "text/plain": [
       "<IPython.core.display.Markdown object>"
      ]
     },
     "metadata": {},
     "output_type": "display_data"
    }
   ],
   "source": [
    "predictions=clf.predict(X_test)\n",
    "\n",
    "count = 0\n",
    "for prediction in range(len(predictions)):\n",
    "    if predictions[prediction] == Y_test[prediction]:\n",
    "        count += 1\n",
    "acc = count/len(predictions)\n",
    "aoc = metrics.roc_auc_score(Y_test,predictions)\n",
    "data = \"**Accuracy** : \" + str(acc) + \"<br>\" + \"**AUC Score** : \" + str(aoc) \n",
    "display(Markdown(data))"
   ]
  },
  {
   "cell_type": "markdown",
   "metadata": {},
   "source": [
    "# Word embedding used - TF-IDF"
   ]
  },
  {
   "cell_type": "code",
   "execution_count": 8,
   "metadata": {
    "collapsed": true
   },
   "outputs": [],
   "source": [
    "df_train = df_train.fillna('')\n",
    "df_test = df_test.fillna('')\n",
    "X_train = df_train[\"comment\"]\n",
    "Y_train = df_train[\"insult\"].tolist()\n",
    "\n",
    "X_test = df_test[\"comment\"]\n",
    "Y_test = df_test[\"insult\"].tolist()\n"
   ]
  },
  {
   "cell_type": "code",
   "execution_count": 9,
   "metadata": {
    "collapsed": true
   },
   "outputs": [],
   "source": [
    "vectorizer = TfidfVectorizer()\n",
    "vectorizer.fit(X_train)\n",
    "\n",
    "X_train = vectorizer.transform(X_train)\n",
    "X_test = vectorizer.transform(X_test)"
   ]
  },
  {
   "cell_type": "code",
   "execution_count": 10,
   "metadata": {},
   "outputs": [
    {
     "data": {
      "text/plain": [
       "LogisticRegression(C=3, class_weight=None, dual=False, fit_intercept=True,\n",
       "          intercept_scaling=1, max_iter=100, multi_class='ovr', n_jobs=1,\n",
       "          penalty='l2', random_state=None, solver='liblinear', tol=0.0001,\n",
       "          verbose=0, warm_start=False)"
      ]
     },
     "execution_count": 10,
     "metadata": {},
     "output_type": "execute_result"
    }
   ],
   "source": [
    "\n",
    "clf = LogisticRegression(C = 3)\n",
    "clf.fit(X_train,Y_train)"
   ]
  },
  {
   "cell_type": "code",
   "execution_count": 11,
   "metadata": {},
   "outputs": [
    {
     "data": {
      "text/markdown": [
       "**Accuracy** : 0.84246316584813<br>**AUC Score** : 0.7415051967252582"
      ],
      "text/plain": [
       "<IPython.core.display.Markdown object>"
      ]
     },
     "metadata": {},
     "output_type": "display_data"
    }
   ],
   "source": [
    "predictions=clf.predict(X_test)\n",
    "\n",
    "count = 0\n",
    "for prediction in range(len(predictions)):\n",
    "    if predictions[prediction] == Y_test[prediction]:\n",
    "        count += 1\n",
    "acc = count/len(predictions)\n",
    "aoc = metrics.roc_auc_score(Y_test,predictions)\n",
    "data = \"**Accuracy** : \" + str(acc) + \"<br>\" + \"**AUC Score** : \" + str(aoc) \n",
    "display(Markdown(data))"
   ]
  },
  {
   "cell_type": "markdown",
   "metadata": {},
   "source": [
    "# Word embedding used - Word2vec(Gensim)"
   ]
  },
  {
   "cell_type": "code",
   "execution_count": 12,
   "metadata": {
    "collapsed": true
   },
   "outputs": [],
   "source": [
    "df_train = df_train.fillna('')\n",
    "df_test = df_test.fillna('')\n",
    "X_train = df_train[\"comment\"]\n",
    "Y_train = df_train[\"insult\"].tolist()\n",
    "\n",
    "X_test = df_test[\"comment\"]\n",
    "Y_test = df_test[\"insult\"].tolist()\n"
   ]
  },
  {
   "cell_type": "code",
   "execution_count": 13,
   "metadata": {
    "collapsed": true
   },
   "outputs": [],
   "source": [
    "#vectorizer = word2vec()\n",
    "#X_train=vectorizer.transform(X_train)\n",
    "#X_test=vectorizer.transform(X_test)"
   ]
  },
  {
   "cell_type": "code",
   "execution_count": 14,
   "metadata": {},
   "outputs": [
    {
     "name": "stdout",
     "output_type": "stream",
     "text": [
      "<class 'pandas.core.series.Series'> <class 'pandas.core.series.Series'>\n"
     ]
    }
   ],
   "source": [
    "print(type(X_train),type(X_test)) "
   ]
  },
  {
   "cell_type": "code",
   "execution_count": 15,
   "metadata": {
    "collapsed": true
   },
   "outputs": [],
   "source": [
    "#n_neighbors = 15\n",
    "#clf = KNeighborsClassifier(n_neighbors)\n",
    "#clf.fit(X_train,Y_train);"
   ]
  },
  {
   "cell_type": "code",
   "execution_count": 16,
   "metadata": {
    "collapsed": true
   },
   "outputs": [],
   "source": [
    "'''predictions=clf.predict(X_test)\n",
    "\n",
    "count = 0\n",
    "for prediction in range(len(predictions)):\n",
    "    if predictions[prediction] == Y_test[prediction]:\n",
    "        count += 1\n",
    "acc = count/len(predictions)\n",
    "aoc = metrics.roc_auc_score(Y_test,predictions)\n",
    "data = \"**Accuracy** : \" + str(acc) + \"<br>\" + \"**AUC Score** : \" + str(aoc) \n",
    "display(Markdown(data))\n",
    "''';"
   ]
  },
  {
   "cell_type": "markdown",
   "metadata": {},
   "source": [
    "# Word embedding used - Word2vec(spacy)"
   ]
  },
  {
   "cell_type": "code",
   "execution_count": 17,
   "metadata": {
    "collapsed": true
   },
   "outputs": [],
   "source": [
    "df_train = df_train.fillna('')\n",
    "df_test = df_test.fillna('')\n",
    "X_train = df_train[\"comment\"]\n",
    "Y_train = df_train[\"insult\"].tolist()\n",
    "\n",
    "X_test = df_test[\"comment\"]\n",
    "Y_test = df_test[\"insult\"].tolist()\n"
   ]
  },
  {
   "cell_type": "code",
   "execution_count": null,
   "metadata": {
    "collapsed": true
   },
   "outputs": [],
   "source": [
    "vectorizer = word2vec()\n",
    "X_train=vectorizer.transformSpacy(X_train)\n",
    "X_test=vectorizer.transformSpacy(X_test)"
   ]
  },
  {
   "cell_type": "code",
   "execution_count": 30,
   "metadata": {},
   "outputs": [
    {
     "name": "stdout",
     "output_type": "stream",
     "text": [
      "<class 'list'> <class 'list'>\n"
     ]
    }
   ],
   "source": [
    "print (type(X_train),type(Y_train))"
   ]
  },
  {
   "cell_type": "code",
   "execution_count": 31,
   "metadata": {},
   "outputs": [
    {
     "data": {
      "text/plain": [
       "LogisticRegression(C=3, class_weight=None, dual=False, fit_intercept=True,\n",
       "          intercept_scaling=1, max_iter=100, multi_class='ovr', n_jobs=1,\n",
       "          penalty='l2', random_state=None, solver='liblinear', tol=0.0001,\n",
       "          verbose=0, warm_start=False)"
      ]
     },
     "execution_count": 31,
     "metadata": {},
     "output_type": "execute_result"
    }
   ],
   "source": [
    "\n",
    "clf = LogisticRegression(C = 3)\n",
    "clf.fit(X_train,Y_train)"
   ]
  },
  {
   "cell_type": "code",
   "execution_count": 32,
   "metadata": {},
   "outputs": [
    {
     "data": {
      "text/markdown": [
       "**Accuracy** : 0.8356630147336608<br>**AUC Score** : 0.7359680294685412"
      ],
      "text/plain": [
       "<IPython.core.display.Markdown object>"
      ]
     },
     "metadata": {},
     "output_type": "display_data"
    }
   ],
   "source": [
    "predictions=clf.predict(X_test)\n",
    "\n",
    "count = 0\n",
    "for prediction in range(len(predictions)):\n",
    "    if predictions[prediction] == Y_test[prediction]:\n",
    "        count += 1\n",
    "acc = count/len(predictions)\n",
    "aoc = metrics.roc_auc_score(Y_test,predictions)\n",
    "data = \"**Accuracy** : \" + str(acc) + \"<br>\" + \"**AUC Score** : \" + str(aoc) \n",
    "display(Markdown(data))\n"
   ]
  },
  {
   "cell_type": "markdown",
   "metadata": {},
   "source": [
    "#### best word embedding results on k-nearest neighbourusing spacy(Word2vec)"
   ]
  },
  {
   "cell_type": "code",
   "execution_count": null,
   "metadata": {
    "collapsed": true
   },
   "outputs": [],
   "source": []
  }
 ],
 "metadata": {
  "kernelspec": {
   "display_name": "Python 3",
   "language": "python",
   "name": "python3"
  },
  "language_info": {
   "codemirror_mode": {
    "name": "ipython",
    "version": 3
   },
   "file_extension": ".py",
   "mimetype": "text/x-python",
   "name": "python",
   "nbconvert_exporter": "python",
   "pygments_lexer": "ipython3",
   "version": "3.6.3"
  }
 },
 "nbformat": 4,
 "nbformat_minor": 2
}
