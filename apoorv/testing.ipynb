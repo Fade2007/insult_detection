{
 "cells": [
  {
   "cell_type": "code",
   "execution_count": 1,
   "metadata": {},
   "outputs": [],
   "source": [
    "import pandas as pd\n",
    "import numpy as np\n",
    "import matplotlib.pyplot as plt\n",
    "import seaborn as sns"
   ]
  },
  {
   "cell_type": "code",
   "execution_count": 7,
   "metadata": {},
   "outputs": [
    {
     "name": "stdout",
     "output_type": "stream",
     "text": [
      " No personal abuse from me - unless you feel it applies to you and then you're very welcome. Pleasingly, the text you quote supports what I said. Even if it didn't, today it is thought that Canut or Cnut tried to command the waves. The perception is the most important not the fact. Do you see?\n",
      "\n",
      "There; you've learned not to take things in a mechanical, pedantic, literal sense. At least I hope you've learned.  \n",
      "\n",
      "Anton, a part of your straining brain has indeed 'checked out'; nobody at home. \n",
      "\n",
      "Your username reveals something of you. \n",
      "Hope this helps.\n"
     ]
    }
   ],
   "source": [
    "data = pd.read_csv(\"../data/impermium_verification_labels.csv\")\n",
    "print(\"\\xa0No personal abuse from me - unless you feel it applies to you\\\n",
    "and then you're very welcome. Pleasingly, the text you quote supports what \\\n",
    "I said. Even if it didn't, today it is thought that Canut or Cnut tried to \\\n",
    "command the waves. The perception is the most important not the fact. \\\n",
    "Do you see?\\n\\nThere; you've learned not to take things in a mechanical, \\\n",
    "pedantic, literal sense. At least I hope you've learned.\\xa0 \\n\\nAnton, a \\\n",
    "part of your straining brain has indeed 'checked out'; nobody at home. \\n\\nYour username reveals something of you. \\nHope this helps.\")"
   ]
  },
  {
   "cell_type": "code",
   "execution_count": 5,
   "metadata": {},
   "outputs": [
    {
     "name": "stdout",
     "output_type": "stream",
     "text": [
      " @Presidentjlh  @JenBroflovski you can ask your mom about it\n"
     ]
    }
   ],
   "source": [
    "print(\"\\xa0@Presidentjlh\\xa0\\xa0@JenBroflovski you can ask your mom about it\")"
   ]
  },
  {
   "cell_type": "code",
   "execution_count": null,
   "metadata": {},
   "outputs": [],
   "source": []
  }
 ],
 "metadata": {
  "kernelspec": {
   "display_name": "Python 3",
   "language": "python",
   "name": "python3"
  },
  "language_info": {
   "codemirror_mode": {
    "name": "ipython",
    "version": 3
   },
   "file_extension": ".py",
   "mimetype": "text/x-python",
   "name": "python",
   "nbconvert_exporter": "python",
   "pygments_lexer": "ipython3",
   "version": "3.6.6"
  }
 },
 "nbformat": 4,
 "nbformat_minor": 2
}
