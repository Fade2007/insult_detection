{
 "cells": [
  {
   "cell_type": "code",
   "execution_count": 80,
   "metadata": {
    "collapsed": false
   },
   "outputs": [],
   "source": [
    "from nltk.tokenize import word_tokenize\n",
    "import pandas  as pd\n",
    "pd.options.display.max_colwidth = 120\n",
    "import numpy as np\n",
    "import re"
   ]
  },
  {
   "cell_type": "code",
   "execution_count": 93,
   "metadata": {
    "collapsed": true
   },
   "outputs": [],
   "source": [
    "def get_occurences_count(df,target):\n",
    "    cnt=0\n",
    "    for i in df:\n",
    "        if target in i:\n",
    "            cnt+=1\n",
    "    return cnt\n",
    "\n",
    "\n",
    "def process_apotrophies():\n",
    "    txt_file = open('apotrophies.txt')\n",
    "    lst = txt_file.read().split('\\n')\n",
    "    res=[]\n",
    "    for i in lst:\n",
    "        sr = i.strip().split('\\t')\n",
    "        if len(sr)>1:\n",
    "            res.append((sr[0].lower(),sr[1].lower()))\n",
    "        \n",
    "    return res\n",
    "\n",
    "\n",
    "def basic_string_processing(s):\n",
    "        line  = s[1:-1]\n",
    "        \n",
    "        #regex_expressions = [r'\\\\x..',r'\\\\n',r'^(http:\\/\\/www\\.|https:\\/\\/www\\.|http:\\/\\/|https:\\/\\/)?[a-z0-9]+([\\-\\.]{1}[a-z0-9]+)*\\.[a-z]{2,5}(:[0-9]{1,5})?(\\/.*)?$',r'\\\\x...',r'\\\\n',r'<.*?>']\n",
    "        #regex_expressions = [r'\\\\x..',r'\\\\n',r'\\\\x...',r'\\\\n',r'<.*?>']\n",
    "        regex_expressions = [r'\\\\x..',r'\\\\n',r'\\\\u..',r'(http:\\/\\/|https:\\/\\/|https:\\/\\/|www|http:\\/\\/).*(\\s)*',r'\\\\x...',r'\\\\n',r'<.*?>']\n",
    "        \n",
    "        \n",
    "        words_replacement = process_apotrophies()\n",
    "        for i in words_replacement:\n",
    "            line = line.replace(i[0],i[1])\n",
    "            line = line.replace(i[0].capitalize(),i[1].capitalize())\n",
    "        \n",
    "        for i in regex_expressions:\n",
    "            line = re.sub(i,\" \",line)\n",
    "\n",
    "        for j in line:\n",
    "            if j.lower() not in \"abcdefghijklmnopqrstuvwxyx1234567890!@#$%^&*$.\\\\/:?=',\"+\"'\":\n",
    "                line = line.replace(j,' ')\n",
    "        final_str = line.strip() \n",
    "        return final_str\n"
   ]
  },
  {
   "cell_type": "code",
   "execution_count": 97,
   "metadata": {
    "collapsed": false
   },
   "outputs": [],
   "source": [
    "files = [\"Data/train.csv\",\"Data/impermium_verification_labels.csv\",\"Data/test_with_solutions.csv\"]\n",
    "results = ['cleaned_dataset_train.csv','cleaned_dataset_verification.csv','cleaned_dataset_test.csv']"
   ]
  },
  {
   "cell_type": "code",
   "execution_count": 100,
   "metadata": {
    "collapsed": false
   },
   "outputs": [],
   "source": [
    "for file_id in range(len(files)):\n",
    "    data = pd.read_csv(files[file_id], encoding='ISO-8859-1')\n",
    "\n",
    "\n",
    "\n",
    "    data = data.drop('Date',axis=1)\n",
    "    data_y = data['Insult']\n",
    "    data_x = data['Comment']\n",
    "\n",
    "    cleaned_data = pd.DataFrame([basic_string_processing(i) for i in data_x])\n",
    "    cleaned_data[:10]\n",
    "    new_df = pd.DataFrame()\n",
    "    new_df['insult'] = data_y\n",
    "    new_df['comment'] = cleaned_data\n",
    "    new_df.to_csv(results[file_id])\n",
    "\n"
   ]
  },
  {
   "cell_type": "code",
   "execution_count": 99,
   "metadata": {
    "collapsed": false
   },
   "outputs": [
    {
     "data": {
      "text/plain": [
       "'cleaned_dataset_train.csv'"
      ]
     },
     "execution_count": 99,
     "metadata": {},
     "output_type": "execute_result"
    }
   ],
   "source": []
  },
  {
   "cell_type": "code",
   "execution_count": 84,
   "metadata": {
    "collapsed": true
   },
   "outputs": [],
   "source": []
  },
  {
   "cell_type": "code",
   "execution_count": 85,
   "metadata": {
    "collapsed": true
   },
   "outputs": [],
   "source": []
  },
  {
   "cell_type": "code",
   "execution_count": 86,
   "metadata": {
    "collapsed": true
   },
   "outputs": [],
   "source": []
  },
  {
   "cell_type": "code",
   "execution_count": 87,
   "metadata": {
    "collapsed": true
   },
   "outputs": [],
   "source": []
  },
  {
   "cell_type": "code",
   "execution_count": 88,
   "metadata": {
    "collapsed": false
   },
   "outputs": [],
   "source": []
  },
  {
   "cell_type": "code",
   "execution_count": 89,
   "metadata": {
    "collapsed": false
   },
   "outputs": [
    {
     "data": {
      "text/html": [
       "<div>\n",
       "<style scoped>\n",
       "    .dataframe tbody tr th:only-of-type {\n",
       "        vertical-align: middle;\n",
       "    }\n",
       "\n",
       "    .dataframe tbody tr th {\n",
       "        vertical-align: top;\n",
       "    }\n",
       "\n",
       "    .dataframe thead th {\n",
       "        text-align: right;\n",
       "    }\n",
       "</style>\n",
       "<table border=\"1\" class=\"dataframe\">\n",
       "  <thead>\n",
       "    <tr style=\"text-align: right;\">\n",
       "      <th></th>\n",
       "      <th>0</th>\n",
       "    </tr>\n",
       "  </thead>\n",
       "  <tbody>\n",
       "    <tr>\n",
       "      <th>0</th>\n",
       "      <td>You fuck your dad.</td>\n",
       "    </tr>\n",
       "    <tr>\n",
       "      <th>1</th>\n",
       "      <td>i really do not understand your point.  It seems that you are mixing apples and oranges.</td>\n",
       "    </tr>\n",
       "    <tr>\n",
       "      <th>2</th>\n",
       "      <td>A  majority of Canadians can and has been wrong before now and will be again.  Unless you are supportive of the idea...</td>\n",
       "    </tr>\n",
       "    <tr>\n",
       "      <th>3</th>\n",
       "      <td>listen if you dont wanna get married to a man or a women DONT DO IT. what would it bother you if gay people got marr...</td>\n",
       "    </tr>\n",
       "    <tr>\n",
       "      <th>4</th>\n",
       "      <td>C c b a1n xu d1ng  11 b0 ddng bi c3u t nh 2011 c   n ho  kh ng ?  C c ng b0 d n ng d3i cu   11 a7u chi e5 nh e5c c  ...</td>\n",
       "    </tr>\n",
       "    <tr>\n",
       "      <th>5</th>\n",
       "      <td>@SDL OK, but I would hope they had, they would sign him to a one year contract to start with. Give him the chance to...</td>\n",
       "    </tr>\n",
       "    <tr>\n",
       "      <th>6</th>\n",
       "      <td>Yeah and where are you now?</td>\n",
       "    </tr>\n",
       "    <tr>\n",
       "      <th>7</th>\n",
       "      <td>shut the fuck up. you and the rest of your faggot friends should be burned at the stake</td>\n",
       "    </tr>\n",
       "    <tr>\n",
       "      <th>8</th>\n",
       "      <td>Either you are fake or extremely stupid...maybe both...</td>\n",
       "    </tr>\n",
       "    <tr>\n",
       "      <th>9</th>\n",
       "      <td>That you are an idiot who understands neither taxation nor women's health.</td>\n",
       "    </tr>\n",
       "  </tbody>\n",
       "</table>\n",
       "</div>"
      ],
      "text/plain": [
       "                                                                                                                         0\n",
       "0                                                                                                       You fuck your dad.\n",
       "1                                 i really do not understand your point.  It seems that you are mixing apples and oranges.\n",
       "2  A  majority of Canadians can and has been wrong before now and will be again.  Unless you are supportive of the idea...\n",
       "3  listen if you dont wanna get married to a man or a women DONT DO IT. what would it bother you if gay people got marr...\n",
       "4  C c b a1n xu d1ng  11 b0 ddng bi c3u t nh 2011 c   n ho  kh ng ?  C c ng b0 d n ng d3i cu   11 a7u chi e5 nh e5c c  ...\n",
       "5  @SDL OK, but I would hope they had, they would sign him to a one year contract to start with. Give him the chance to...\n",
       "6                                                                                              Yeah and where are you now?\n",
       "7                                  shut the fuck up. you and the rest of your faggot friends should be burned at the stake\n",
       "8                                                                  Either you are fake or extremely stupid...maybe both...\n",
       "9                                               That you are an idiot who understands neither taxation nor women's health."
      ]
     },
     "execution_count": 89,
     "metadata": {},
     "output_type": "execute_result"
    }
   ],
   "source": []
  },
  {
   "cell_type": "markdown",
   "metadata": {},
   "source": [
    "#"
   ]
  },
  {
   "cell_type": "code",
   "execution_count": 90,
   "metadata": {
    "collapsed": true
   },
   "outputs": [],
   "source": []
  },
  {
   "cell_type": "code",
   "execution_count": 91,
   "metadata": {
    "collapsed": false
   },
   "outputs": [
    {
     "data": {
      "text/plain": [
       "0"
      ]
     },
     "execution_count": 91,
     "metadata": {},
     "output_type": "execute_result"
    }
   ],
   "source": [
    "target = 'doesn\\'t'\n",
    "get_occurences_count(new_df['comment'],target)"
   ]
  },
  {
   "cell_type": "code",
   "execution_count": 62,
   "metadata": {
    "collapsed": true
   },
   "outputs": [],
   "source": [
    "s = 'you\\'re'"
   ]
  },
  {
   "cell_type": "code",
   "execution_count": 63,
   "metadata": {
    "collapsed": false
   },
   "outputs": [
    {
     "data": {
      "text/plain": [
       "\"You're\""
      ]
     },
     "execution_count": 63,
     "metadata": {},
     "output_type": "execute_result"
    }
   ],
   "source": [
    "s.capitalize()"
   ]
  },
  {
   "cell_type": "code",
   "execution_count": null,
   "metadata": {
    "collapsed": false
   },
   "outputs": [],
   "source": []
  },
  {
   "cell_type": "code",
   "execution_count": 64,
   "metadata": {
    "collapsed": false
   },
   "outputs": [
    {
     "data": {
      "text/plain": [
       "[(\"aren't\", 'are not'),\n",
       " (\"can't\", 'cannot'),\n",
       " (\"couldn't\", 'could not'),\n",
       " (\"didn't\", 'did not'),\n",
       " (\"doesn't\", 'does not'),\n",
       " (\"don't\", 'do not'),\n",
       " (\"hadn't\", 'had not'),\n",
       " (\"hasn't\", 'has not'),\n",
       " (\"haven't\", 'have not'),\n",
       " (\"he'd\", 'he had, he would'),\n",
       " (\"he'll\", 'he will, he shall'),\n",
       " (\"he's\", 'he is, he has'),\n",
       " (\"i'd\", 'i had, i would'),\n",
       " (\"i'll\", 'i will, i shall'),\n",
       " (\"i'm\", 'i am'),\n",
       " (\"i've\", 'i have'),\n",
       " (\"isn't\", 'is not'),\n",
       " (\"it's\", 'it is, it has'),\n",
       " (\"let's\", 'let us'),\n",
       " (\"mustn't\", 'must not'),\n",
       " (\"shan't\", 'shall not'),\n",
       " (\"she'd\", 'she had, she would'),\n",
       " (\"she'll\", 'she will, she shall'),\n",
       " (\"she's\", 'she is, she has'),\n",
       " (\"shouldn't\", 'should not'),\n",
       " (\"that's\", 'that is, that has'),\n",
       " (\"there's\", 'there is, there has'),\n",
       " (\"they'd\", 'they had, they would'),\n",
       " (\"they'll\", 'they will, they shall'),\n",
       " (\"they're\", 'they are'),\n",
       " (\"they've\", 'they have'),\n",
       " (\"we'd\", 'we had, we would'),\n",
       " (\"we're\", 'we are'),\n",
       " (\"we've\", 'we have'),\n",
       " (\"weren't\", 'were not'),\n",
       " (\"what'll\", 'what will, what shall'),\n",
       " (\"what're\", 'what are'),\n",
       " (\"what's\", 'what is, what has'),\n",
       " (\"what've\", 'what have'),\n",
       " (\"where's\", 'where is, where has'),\n",
       " (\"who'd\", 'who had, who would'),\n",
       " (\"who'll\", 'who will, who shall'),\n",
       " (\"who're\", 'who are'),\n",
       " (\"who's\", 'who is, who has'),\n",
       " (\"who've\", 'who have'),\n",
       " (\"won't\", 'will not'),\n",
       " (\"wouldn't\", 'would not'),\n",
       " (\"you'd\", 'you had, you would'),\n",
       " (\"you'll\", 'you will, you shall'),\n",
       " (\"you're\", 'you are'),\n",
       " (\"you've\", 'you have')]"
      ]
     },
     "execution_count": 64,
     "metadata": {},
     "output_type": "execute_result"
    }
   ],
   "source": [
    "process_apotrophies()"
   ]
  },
  {
   "cell_type": "code",
   "execution_count": 65,
   "metadata": {
    "collapsed": false
   },
   "outputs": [
    {
     "data": {
      "text/plain": [
       "u'Sounds like YOUR wife has a pen1s...with you that is, that has understandable.'"
      ]
     },
     "execution_count": 65,
     "metadata": {},
     "output_type": "execute_result"
    }
   ],
   "source": [
    "new_df['comment'][94]"
   ]
  },
  {
   "cell_type": "code",
   "execution_count": 36,
   "metadata": {
    "collapsed": false
   },
   "outputs": [
    {
     "data": {
      "text/plain": [
       "\"you're\""
      ]
     },
     "execution_count": 36,
     "metadata": {},
     "output_type": "execute_result"
    }
   ],
   "source": [
    "s"
   ]
  },
  {
   "cell_type": "code",
   "execution_count": null,
   "metadata": {
    "collapsed": true
   },
   "outputs": [],
   "source": []
  }
 ],
 "metadata": {
  "anaconda-cloud": {},
  "kernelspec": {
   "display_name": "Python [conda env:anaconda]",
   "language": "python",
   "name": "conda-env-anaconda-py"
  },
  "language_info": {
   "codemirror_mode": {
    "name": "ipython",
    "version": 2
   },
   "file_extension": ".py",
   "mimetype": "text/x-python",
   "name": "python",
   "nbconvert_exporter": "python",
   "pygments_lexer": "ipython2",
   "version": "2.7.15"
  }
 },
 "nbformat": 4,
 "nbformat_minor": 1
}
